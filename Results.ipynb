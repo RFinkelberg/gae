{
 "cells": [
  {
   "cell_type": "code",
   "execution_count": 1,
   "metadata": {},
   "outputs": [],
   "source": [
    "from gae.gae.GAETrainer import GAETrainer\n",
    "from gae.gae.input_data import CyberDataset\n",
    "import numpy as np\n",
    "import pandas as pd\n",
    "import seaborn as sns\n",
    "import matplotlib.pyplot as plt\n",
    "import scipy.sparse as sp\n",
    "import cudf\n",
    "import cugraph\n",
    "import time\n",
    "import networkx as nx\n",
    "from baseline import LinkPredictor, CugraphPredictor\n",
    "from sklearn.metrics import roc_auc_score, average_precision_score\n",
    "sns.set_style('white')\n",
    "\n",
    "import tensorflow as tf\n",
    "tf.logging.set_verbosity('ERROR')"
   ]
  },
  {
   "cell_type": "markdown",
   "metadata": {},
   "source": [
    "# Network Exploration\n",
    "Load the data, and gather some preliminary descriptive stats about each network"
   ]
  },
  {
   "cell_type": "code",
   "execution_count": 2,
   "metadata": {},
   "outputs": [
    {
     "data": {
      "text/plain": [
       "(<3783x3783 sparse matrix of type '<class 'numpy.int64'>'\n",
       " \twith 28248 stored elements in Compressed Sparse Row format>,\n",
       " <3783x3783 sparse matrix of type '<class 'numpy.float64'>'\n",
       " \twith 3783 stored elements (1 diagonals) in DIAgonal format>)"
      ]
     },
     "execution_count": 2,
     "metadata": {},
     "output_type": "execute_result"
    }
   ],
   "source": [
    "def lazy_factory():\n",
    "    return CyberDataset('/mnt/vgae/data')\n",
    "(email_data, \n",
    " alamos_data, \n",
    " unsw_data, \n",
    " gnutella_data, \n",
    " brightkite_data,\n",
    " bitcoin_data) = (lazy_factory() for _ in range(6))\n",
    "\n",
    "email_data.load_data(\"email\")\n",
    "alamos_data.load_data(\"alamos_flows\")\n",
    "unsw_data.load_data(\"UNSW\")\n",
    "gnutella_data.load_data(\"gnutella\")\n",
    "brightkite_data.load_data(\"brightkite\")\n",
    "bitcoin_data.load_data(\"bitcoin\")"
   ]
  },
  {
   "cell_type": "code",
   "execution_count": 3,
   "metadata": {},
   "outputs": [],
   "source": [
    "def degrees(G):\n",
    "    return [v for _, v in G.degree()]"
   ]
  },
  {
   "cell_type": "code",
   "execution_count": 4,
   "metadata": {},
   "outputs": [
    {
     "name": "stdout",
     "output_type": "stream",
     "text": [
      "\n",
      "    ***email***\n",
      "    n_nodes: 986\n",
      "    SCCs: 1\n",
      "    Avg degree: 262.5420892494929\n",
      "    Median degree: 82.0\n",
      "    n_triangles: 485605\n",
      "    Avg clustering coeff: 0.40705044751953817\n",
      "    \n",
      "\n",
      "    ***alamos***\n",
      "    n_nodes: 5170\n",
      "    SCCs: 10\n",
      "    Avg degree: 1295.6022243713733\n",
      "    Median degree: 36.5\n",
      "    n_triangles: 13361865\n",
      "    Avg clustering coeff: 0.00032629882547202725\n",
      "    \n",
      "\n",
      "    ***unsw***\n",
      "    n_nodes: 46\n",
      "    SCCs: 5\n",
      "    Avg degree: 14.66304347826087\n",
      "    Median degree: 10.0\n",
      "    n_triangles: 1035\n",
      "    Avg clustering coeff: 0.0\n",
      "    \n",
      "\n",
      "    ***gnutella***\n",
      "    n_nodes: 6301\n",
      "    SCCs: 2\n",
      "    Avg degree: 1578.2974131090302\n",
      "    Median degree: 50.5\n",
      "    n_triangles: 19848150\n",
      "    Avg clustering coeff: 0.010867921935819955\n",
      "    \n",
      "\n",
      "    ***bitcoin***\n",
      "    n_nodes: 3783\n",
      "    SCCs: 5\n",
      "    Avg degree: 949.2335448057097\n",
      "    Median degree: 63.5\n",
      "    n_triangles: 7153653\n",
      "    Avg clustering coeff: 0.17662903035907676\n",
      "    \n"
     ]
    }
   ],
   "source": [
    "G_email = nx.from_scipy_sparse_matrix(email_data.adj)\n",
    "G_alamos = nx.from_scipy_sparse_matrix(alamos_data.adj)\n",
    "G_unsw = nx.from_scipy_sparse_matrix(unsw_data.adj)\n",
    "G_gnutella = nx.from_scipy_sparse_matrix(gnutella_data.adj)\n",
    "G_bitcoin = nx.from_scipy_sparse_matrix(bitcoin_data.adj)\n",
    "for name, g in zip(('email', 'alamos', 'unsw', 'gnutella', 'bitcoin'),\n",
    "                   (G_email, G_alamos, G_unsw, G_gnutella, G_bitcoin)):\n",
    "    print(f\"\"\"\n",
    "    ***{name}***\n",
    "    n_nodes: {len(g.nodes())}\n",
    "    SCCs: {nx.number_connected_components(g)}\n",
    "    Avg degree: {np.mean(list(g.degree()))}\n",
    "    Median degree: {np.median(list(g.degree()))}\n",
    "    n_triangles: {sum(list(nx.cluster.triangles(g)))}\n",
    "    Avg clustering coeff: {nx.cluster.average_clustering(g)}\n",
    "    \"\"\")"
   ]
  },
  {
   "cell_type": "markdown",
   "metadata": {},
   "source": [
    "# Pipeline Setup"
   ]
  },
  {
   "cell_type": "code",
   "execution_count": 5,
   "metadata": {},
   "outputs": [],
   "source": [
    "def run_gae(dataset):\n",
    "    adj, features = dataset.adj, dataset.features\n",
    "    trainer = GAETrainer(adj, features, cyber_dataset=dataset, epochs=200)\n",
    "    print(f\"***GAE Predictor***\")\n",
    "    train_roc, train_ap = trainer.train()\n",
    "    t = time.time()\n",
    "    test_roc, test_ap = trainer.eval()\n",
    "    elapsed = time.time() - t\n",
    "    print(f\"Inference time: {elapsed} -- {(len(trainer.test_edges) + len(trainer.test_edges_false)) / elapsed} edges/sec\")\n",
    "    print(f\"Train ROC: {train_roc[-1]}\")\n",
    "    print(f\"Train AP: {train_ap[-1]}\")\n",
    "    return trainer"
   ]
  },
  {
   "cell_type": "code",
   "execution_count": 6,
   "metadata": {},
   "outputs": [],
   "source": [
    "# Baseline link predictor using adamic adar index\n",
    "def run_baseline(trainer, use_cugraph=False):\n",
    "    t = time.time()\n",
    "    if use_cugraph:\n",
    "        G_train = cugraph.Graph()\n",
    "        data = trainer.cyber_dataset.edge_list\n",
    "        G_train.add_edge_list(cudf.Series(data[:, 0]).astype('int32'),\n",
    "                              cudf.Series(data[:, 1].astype('int32')))\n",
    "        clf = CugraphPredictor(G_train).train(trainer.val_edges, trainer.val_edges_false)\n",
    "        test_set = np.append(trainer.test_edges, trainer.test_edges_false, axis=0)\n",
    "        pred = clf.predict(cudf.Series(test_set[:, 0]), cudf.Series(test_set[:, 1])).iloc[:, 2].to_array()\n",
    "    else:\n",
    "        G_train = nx.from_numpy_array(trainer.adj_train.toarray())\n",
    "        clf = LinkPredictor(metric=nx.link_prediction.jaccard_coefficient).train(G_train, trainer.val_edges, trainer.val_edges_false)\n",
    "        pred = np.append(clf.predict(trainer.test_edges), clf.predict(trainer.test_edges_false))\n",
    "    elapsed = time.time() - t\n",
    "    print(f\"***Baseline Predictor***\")\n",
    "    print(f\"Inference time: {elapsed} -- {(len(trainer.test_edges) + len(trainer.test_edges_false) / elapsed)} edges/sec\")\n",
    "    actual = np.array([trainer.adj_orig[(u, v)] for (u, v) in np.append(trainer.test_edges, trainer.test_edges_false, axis=0)])\n",
    "    \n",
    "\n",
    "    print(f\"Baseline Test ROC: {roc_auc_score(actual, pred)}\")\n",
    "    print(f\"Baseline Test AP: {average_precision_score(pred, actual)}\")"
   ]
  },
  {
   "cell_type": "markdown",
   "metadata": {},
   "source": [
    "# Email Data\n",
    "A mid-sized user interaction dataset with a regular degree distribution"
   ]
  },
  {
   "cell_type": "code",
   "execution_count": 7,
   "metadata": {},
   "outputs": [
    {
     "name": "stdout",
     "output_type": "stream",
     "text": [
      "***GAE Predictor***\n",
      "Optimization Finished!\n",
      "Test ROC score: 0.909389834819303\n",
      "Test AP score: 0.9201509180242752\n",
      "Inference time: 0.11947989463806152 -- 26883.184068165265 edges/sec\n",
      "Train ROC: 0.9167691517953379\n",
      "Train AP: 0.9213620928556177\n",
      "CPU times: user 11min 58s, sys: 1min 11s, total: 13min 10s\n",
      "Wall time: 23.7 s\n"
     ]
    }
   ],
   "source": [
    "%%time\n",
    "trainer = run_gae(email_data)"
   ]
  },
  {
   "cell_type": "code",
   "execution_count": 8,
   "metadata": {},
   "outputs": [
    {
     "name": "stdout",
     "output_type": "stream",
     "text": [
      "***Baseline Predictor***\n",
      "Inference time: 1.5895578861236572 -- 2616.343828318476 edges/sec\n",
      "Baseline Test ROC: 0.8424657534246576\n",
      "Baseline Test AP: 0.8068775978309639\n",
      "CPU times: user 4.42 s, sys: 228 ms, total: 4.64 s\n",
      "Wall time: 1.66 s\n"
     ]
    }
   ],
   "source": [
    "%%time\n",
    "run_baseline(trainer)"
   ]
  },
  {
   "cell_type": "markdown",
   "metadata": {},
   "source": [
    "Below is an example of using cugraph's jaccard coefficient implementation as a baseline link predictor, rather than networkx. We fail to see a speedup here because this dataset is far too small to make up for cugraph's overhead"
   ]
  },
  {
   "cell_type": "code",
   "execution_count": 9,
   "metadata": {},
   "outputs": [
    {
     "name": "stdout",
     "output_type": "stream",
     "text": [
      "***Baseline Predictor***\n",
      "Inference time: 58.50176954269409 -- 1633.4521610637428 edges/sec\n",
      "Baseline Test ROC: 0.5105853051058531\n",
      "Baseline Test AP: 0.29564762505411574\n",
      "CPU times: user 55.4 s, sys: 1.79 s, total: 57.2 s\n",
      "Wall time: 58.6 s\n"
     ]
    }
   ],
   "source": [
    "%%time\n",
    "run_baseline(trainer, use_cugraph=True)"
   ]
  },
  {
   "cell_type": "code",
   "execution_count": 10,
   "metadata": {},
   "outputs": [
    {
     "name": "stdout",
     "output_type": "stream",
     "text": [
      "count    986.000000\n",
      "mean      32.584178\n",
      "std       37.044294\n",
      "min        1.000000\n",
      "25%        6.250000\n",
      "50%       22.000000\n",
      "75%       44.750000\n",
      "max      345.000000\n",
      "dtype: float64\n"
     ]
    },
    {
     "data": {
      "image/png": "[encoded data removed]",
      "text/plain": [
       "<Figure size 432x288 with 1 Axes>"
      ]
     },
     "metadata": {
      "needs_background": "light"
     },
     "output_type": "display_data"
    }
   ],
   "source": [
    "sns.distplot(degrees(G_email))\n",
    "plt.title(\"Email Node Degree Distribution\")\n",
    "print(pd.Series(degrees(G_email)).describe())"
   ]
  },
  {
   "cell_type": "markdown",
   "metadata": {},
   "source": [
    "# Alamos Flow Data\n",
    "A larger, heterogeneous dataset with a more prominent set of supernodes"
   ]
  },
  {
   "cell_type": "code",
   "execution_count": 11,
   "metadata": {},
   "outputs": [
    {
     "name": "stdout",
     "output_type": "stream",
     "text": [
      "***GAE Predictor***\n",
      "Optimization Finished!\n",
      "Test ROC score: 0.8704923169232133\n",
      "Test AP score: 0.9301955596812981\n",
      "Inference time: 0.3270859718322754 -- 10596.602417964017 edges/sec\n",
      "Train ROC: 0.8786695486135188\n",
      "Train AP: 0.9339972278246063\n",
      "CPU times: user 43min 17s, sys: 16min 2s, total: 59min 20s\n",
      "Wall time: 2min 4s\n"
     ]
    }
   ],
   "source": [
    "%%time\n",
    "trainer = run_gae(alamos_data)"
   ]
  },
  {
   "cell_type": "code",
   "execution_count": 12,
   "metadata": {},
   "outputs": [
    {
     "name": "stdout",
     "output_type": "stream",
     "text": [
      "***Baseline Predictor***\n",
      "Inference time: 7.016719818115234 -- 1979.9815020297478 edges/sec\n",
      "Baseline Test ROC: 0.4708597807270629\n",
      "Baseline Test AP: 0.029140219272937102\n",
      "CPU times: user 7.02 s, sys: 72 ms, total: 7.1 s\n",
      "Wall time: 7.1 s\n"
     ]
    }
   ],
   "source": [
    "%%time\n",
    "run_baseline(trainer)"
   ]
  },
  {
   "cell_type": "code",
   "execution_count": 13,
   "metadata": {},
   "outputs": [
    {
     "name": "stdout",
     "output_type": "stream",
     "text": [
      "***Baseline Predictor***\n",
      "Inference time: 6.955996990203857 -- 1982.1375431071328 edges/sec\n",
      "Baseline Test ROC: 0.4708597807270629\n",
      "Baseline Test AP: 0.029140219272937102\n",
      "CPU times: user 6.98 s, sys: 80 ms, total: 7.06 s\n",
      "Wall time: 7.07 s\n"
     ]
    }
   ],
   "source": [
    "%%time\n",
    "run_baseline(trainer, use_cugraph=False)"
   ]
  },
  {
   "cell_type": "code",
   "execution_count": 14,
   "metadata": {},
   "outputs": [
    {
     "data": {
      "text/plain": [
       "count    5170.000000\n",
       "mean        6.704449\n",
       "std        52.155337\n",
       "min         1.000000\n",
       "25%         1.000000\n",
       "50%         2.000000\n",
       "75%         5.000000\n",
       "max      2014.000000\n",
       "dtype: float64"
      ]
     },
     "execution_count": 14,
     "metadata": {},
     "output_type": "execute_result"
    },
    {
     "data": {
      "image/png": "[encoded data removed]",
      "text/plain": [
       "<Figure size 432x288 with 1 Axes>"
      ]
     },
     "metadata": {
      "needs_background": "light"
     },
     "output_type": "display_data"
    }
   ],
   "source": [
    "sns.distplot(degrees(G_alamos))\n",
    "plt.title(\"Alamos Flow Node Degree Distribution\")\n",
    "pd.Series(degrees(G_alamos)).describe()"
   ]
  },
  {
   "cell_type": "markdown",
   "metadata": {},
   "source": [
    "# UNSW Data\n",
    "A very small, distributed dataset with an extremely irregular, multimodal degree distribution"
   ]
  },
  {
   "cell_type": "code",
   "execution_count": 15,
   "metadata": {},
   "outputs": [
    {
     "name": "stdout",
     "output_type": "stream",
     "text": [
      "***GAE Predictor***\n",
      "Optimization Finished!\n",
      "Test ROC score: 0.76\n",
      "Test AP score: 0.6843979168979168\n",
      "Inference time: 0.0038175582885742188 -- 7858.426180364727 edges/sec\n",
      "Train ROC: 0.8367346938775511\n",
      "Train AP: 0.8715213358070499\n",
      "CPU times: user 2.18 s, sys: 572 ms, total: 2.75 s\n",
      "Wall time: 1.56 s\n"
     ]
    }
   ],
   "source": [
    "%%time\n",
    "trainer = run_gae(unsw_data)"
   ]
  },
  {
   "cell_type": "code",
   "execution_count": 16,
   "metadata": {},
   "outputs": [
    {
     "name": "stdout",
     "output_type": "stream",
     "text": [
      "***Baseline Predictor***\n",
      "Inference time: 0.08691620826721191 -- 187.5800089424583 edges/sec\n",
      "Baseline Test ROC: 0.4\n",
      "Baseline Test AP: 0.1\n",
      "CPU times: user 92 ms, sys: 0 ns, total: 92 ms\n",
      "Wall time: 90.5 ms\n"
     ]
    }
   ],
   "source": [
    "%%time\n",
    "run_baseline(trainer)"
   ]
  },
  {
   "cell_type": "code",
   "execution_count": 17,
   "metadata": {},
   "outputs": [
    {
     "data": {
      "text/plain": [
       "count    46.000000\n",
       "mean      6.826087\n",
       "std       3.808204\n",
       "min       1.000000\n",
       "25%       4.000000\n",
       "50%      10.000000\n",
       "75%      10.000000\n",
       "max      12.000000\n",
       "dtype: float64"
      ]
     },
     "execution_count": 17,
     "metadata": {},
     "output_type": "execute_result"
    },
    {
     "data": {
      "image/png": "[encoded data removed]",
      "text/plain": [
       "<Figure size 432x288 with 1 Axes>"
      ]
     },
     "metadata": {
      "needs_background": "light"
     },
     "output_type": "display_data"
    }
   ],
   "source": [
    "sns.distplot(degrees(G_unsw))\n",
    "plt.title(\"UNSW Node Degree Distribution\")\n",
    "pd.Series(degrees(G_unsw)).describe()"
   ]
  },
  {
   "cell_type": "markdown",
   "metadata": {},
   "source": [
    "# Gnutella Data\n",
    "A large user interaction network with only two connected components whose degree distribution is normally skewed, but multimodal"
   ]
  },
  {
   "cell_type": "code",
   "execution_count": 18,
   "metadata": {},
   "outputs": [
    {
     "name": "stdout",
     "output_type": "stream",
     "text": [
      "***GAE Predictor***\n",
      "Optimization Finished!\n",
      "Test ROC score: 0.6120356871891031\n",
      "Test AP score: 0.6902684147399992\n",
      "Inference time: 0.43488311767578125 -- 9551.991859791933 edges/sec\n",
      "Train ROC: 0.616275648664803\n",
      "Train AP: 0.6958917413383547\n",
      "CPU times: user 53min 3s, sys: 25min 51s, total: 1h 18min 54s\n",
      "Wall time: 2min 57s\n"
     ]
    }
   ],
   "source": [
    "%%time\n",
    "trainer = run_gae(gnutella_data)"
   ]
  },
  {
   "cell_type": "code",
   "execution_count": 19,
   "metadata": {},
   "outputs": [
    {
     "name": "stdout",
     "output_type": "stream",
     "text": [
      "***Baseline Predictor***\n",
      "Inference time: 1.2329809665679932 -- 3761.5353304855444 edges/sec\n",
      "Baseline Test ROC: 0.5599422243620605\n",
      "Baseline Test AP: 0.12722476994515156\n",
      "CPU times: user 1.18 s, sys: 140 ms, total: 1.32 s\n",
      "Wall time: 1.32 s\n"
     ]
    }
   ],
   "source": [
    "%%time\n",
    "run_baseline(trainer)"
   ]
  },
  {
   "cell_type": "code",
   "execution_count": 20,
   "metadata": {},
   "outputs": [
    {
     "data": {
      "text/plain": [
       "count    6301.000000\n",
       "mean        6.594826\n",
       "std         8.541018\n",
       "min         1.000000\n",
       "25%         1.000000\n",
       "50%         3.000000\n",
       "75%        11.000000\n",
       "max        97.000000\n",
       "dtype: float64"
      ]
     },
     "execution_count": 20,
     "metadata": {},
     "output_type": "execute_result"
    },
    {
     "data": {
      "image/png": "[encoded data removed]",
      "text/plain": [
       "<Figure size 432x288 with 1 Axes>"
      ]
     },
     "metadata": {
      "needs_background": "light"
     },
     "output_type": "display_data"
    }
   ],
   "source": [
    "G_gnutella = nx.from_scipy_sparse_matrix(gnutella_data.adj)\n",
    "sns.distplot(degrees(G_gnutella))\n",
    "import matplotlib.pyplot as plt\n",
    "plt.title(\"Gnutella Node Degree Distribution\")\n",
    "pd.Series(degrees(G_gnutella)).describe()"
   ]
  },
  {
   "cell_type": "markdown",
   "metadata": {},
   "source": [
    "# Bitcoin Data\n",
    "A user-user trust network with a similar size to the gnutella network and five connected components"
   ]
  },
  {
   "cell_type": "code",
   "execution_count": 21,
   "metadata": {},
   "outputs": [
    {
     "name": "stdout",
     "output_type": "stream",
     "text": [
      "***GAE Predictor***\n",
      "Optimization Finished!\n",
      "Test ROC score: 0.8224536349701868\n",
      "Test AP score: 0.8808616788391885\n",
      "Inference time: 0.24956583976745605 -- 11315.65122306557 edges/sec\n",
      "Train ROC: 0.8100478296110233\n",
      "Train AP: 0.8735700922532478\n",
      "CPU times: user 32min 36s, sys: 6min 6s, total: 38min 43s\n",
      "Wall time: 1min 12s\n"
     ]
    }
   ],
   "source": [
    "%%time\n",
    "trainer = run_gae(bitcoin_data)"
   ]
  },
  {
   "cell_type": "code",
   "execution_count": 22,
   "metadata": {},
   "outputs": [
    {
     "name": "stdout",
     "output_type": "stream",
     "text": [
      "***Baseline Predictor***\n",
      "Inference time: 1.2693641185760498 -- 2524.3679796337374 edges/sec\n",
      "Baseline Test ROC: 0.798158640226629\n",
      "Baseline Test AP: 0.6324007104458969\n",
      "CPU times: user 1.3 s, sys: 28 ms, total: 1.33 s\n",
      "Wall time: 1.33 s\n"
     ]
    }
   ],
   "source": [
    "%%time\n",
    "run_baseline(trainer)"
   ]
  },
  {
   "cell_type": "code",
   "execution_count": 23,
   "metadata": {},
   "outputs": [
    {
     "data": {
      "text/plain": [
       "count    3783.000000\n",
       "mean        7.467090\n",
       "std        20.055671\n",
       "min         1.000000\n",
       "25%         1.000000\n",
       "50%         2.000000\n",
       "75%         6.000000\n",
       "max       511.000000\n",
       "dtype: float64"
      ]
     },
     "execution_count": 23,
     "metadata": {},
     "output_type": "execute_result"
    },
    {
     "data": {
      "image/png": "[encoded data removed]",
      "text/plain": [
       "<Figure size 432x288 with 1 Axes>"
      ]
     },
     "metadata": {
      "needs_background": "light"
     },
     "output_type": "display_data"
    }
   ],
   "source": [
    "sns.distplot(degrees(G_bitcoin))\n",
    "plt.title(\"Bitcoin Node Degree Distribution\")\n",
    "pd.Series(degrees(G_bitcoin)).describe()"
   ]
  }
 ],
 "metadata": {
  "kernelspec": {
   "display_name": "Python 3",
   "language": "python",
   "name": "python3"
  },
  "language_info": {
   "codemirror_mode": {
    "name": "ipython",
    "version": 3
   },
   "file_extension": ".py",
   "mimetype": "text/x-python",
   "name": "python",
   "nbconvert_exporter": "python",
   "pygments_lexer": "ipython3",
   "version": "3.6.8"
  }
 },
 "nbformat": 4,
 "nbformat_minor": 4
}
